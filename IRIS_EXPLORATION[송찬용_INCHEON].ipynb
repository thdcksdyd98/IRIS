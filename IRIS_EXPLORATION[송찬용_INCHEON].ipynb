{
 "cells": [
  {
   "cell_type": "code",
   "execution_count": 120,
   "id": "tropical-lodge",
   "metadata": {},
   "outputs": [],
   "source": [
    "from sklearn.datasets import load_digits\n",
    "from sklearn.model_selection import train_test_split\n",
    "from sklearn.metrics import classification_report\n",
    "from sklearn.tree import DecisionTreeClassifier\n",
    "from sklearn.ensemble import RandomForestClassifier\n",
    "from sklearn import svm\n",
    "from sklearn.linear_model import SGDClassifier\n",
    "from sklearn.linear_model import LogisticRegression\n",
    "from sklearn.datasets import load_wine\n",
    "from sklearn.datasets import load_breast_cancer\n"
   ]
  },
  {
   "cell_type": "markdown",
   "id": "pressed-bunny",
   "metadata": {},
   "source": [
    "# MNIST"
   ]
  },
  {
   "cell_type": "code",
   "execution_count": 165,
   "id": "interior-tissue",
   "metadata": {},
   "outputs": [
    {
     "name": "stdout",
     "output_type": "stream",
     "text": [
      "dict_keys(['data', 'target', 'frame', 'feature_names', 'target_names', 'images', 'DESCR'])\n",
      "(1797, 64)\n",
      "[[ 0.  0.  5. ...  0.  0.  0.]\n",
      " [ 0.  0.  0. ... 10.  0.  0.]\n",
      " [ 0.  0.  0. ... 16.  9.  0.]\n",
      " ...\n",
      " [ 0.  0.  1. ...  6.  0.  0.]\n",
      " [ 0.  0.  2. ... 12.  0.  0.]\n",
      " [ 0.  0. 10. ... 12.  1.  0.]]\n"
     ]
    }
   ],
   "source": [
    "digits = load_digits()\n",
    "print(digits.keys())\n",
    "\n",
    "digits_data = digits.data\n",
    "print(digits_data.shape) # 64 -> 8x8로 구성이 되어 있음 \n",
    "print(digits_data)"
   ]
  },
  {
   "cell_type": "code",
   "execution_count": 166,
   "id": "photographic-groove",
   "metadata": {},
   "outputs": [
    {
     "name": "stdout",
     "output_type": "stream",
     "text": [
      "(1797,)\n",
      "[0 1 2 3 4 5 6 7 8 9]\n"
     ]
    }
   ],
   "source": [
    "# target\n",
    "\n",
    "digits_label = digits.target\n",
    "print(digits_label.shape)\n",
    "print(digits.target_names) # target name"
   ]
  },
  {
   "cell_type": "code",
   "execution_count": 100,
   "id": "honey-vacuum",
   "metadata": {},
   "outputs": [],
   "source": [
    "X_train, X_test, y_train, y_test = train_test_split(digits_data, \n",
    "                                                    digits_label, \n",
    "                                                    test_size=0.2, \n",
    "                                                    random_state=30)"
   ]
  },
  {
   "cell_type": "code",
   "execution_count": 101,
   "id": "functioning-auckland",
   "metadata": {},
   "outputs": [
    {
     "name": "stdout",
     "output_type": "stream",
     "text": [
      "              precision    recall  f1-score   support\n",
      "\n",
      "           0       0.92      1.00      0.96        35\n",
      "           1       0.82      0.67      0.74        46\n",
      "           2       0.87      0.83      0.85        41\n",
      "           3       0.66      0.73      0.69        26\n",
      "           4       0.79      0.74      0.76        35\n",
      "           5       0.82      0.87      0.85        38\n",
      "           6       0.95      0.98      0.96        42\n",
      "           7       0.88      0.94      0.91        32\n",
      "           8       0.71      0.71      0.71        35\n",
      "           9       0.81      0.83      0.82        30\n",
      "\n",
      "    accuracy                           0.83       360\n",
      "   macro avg       0.82      0.83      0.83       360\n",
      "weighted avg       0.83      0.83      0.83       360\n",
      "\n"
     ]
    }
   ],
   "source": [
    "# decision tree\n",
    "decision_tree = DecisionTreeClassifier(random_state=19)\n",
    "decision_tree.fit(X_train, y_train)\n",
    "y_pred = decision_tree.predict(X_test)\n",
    "\n",
    "print(classification_report(y_test, y_pred))"
   ]
  },
  {
   "cell_type": "code",
   "execution_count": 102,
   "id": "closing-dallas",
   "metadata": {},
   "outputs": [
    {
     "name": "stdout",
     "output_type": "stream",
     "text": [
      "              precision    recall  f1-score   support\n",
      "\n",
      "           0       1.00      1.00      1.00        35\n",
      "           1       0.96      1.00      0.98        46\n",
      "           2       1.00      1.00      1.00        41\n",
      "           3       0.93      0.96      0.94        26\n",
      "           4       1.00      0.94      0.97        35\n",
      "           5       1.00      1.00      1.00        38\n",
      "           6       1.00      1.00      1.00        42\n",
      "           7       1.00      1.00      1.00        32\n",
      "           8       0.97      0.97      0.97        35\n",
      "           9       0.93      0.90      0.92        30\n",
      "\n",
      "    accuracy                           0.98       360\n",
      "   macro avg       0.98      0.98      0.98       360\n",
      "weighted avg       0.98      0.98      0.98       360\n",
      "\n"
     ]
    }
   ],
   "source": [
    "# random forest\n",
    "random_forest = RandomForestClassifier(random_state=22)\n",
    "random_forest.fit(X_train, y_train)\n",
    "y_pred = random_forest.predict(X_test)\n",
    "\n",
    "print(classification_report(y_test, y_pred))"
   ]
  },
  {
   "cell_type": "code",
   "execution_count": 103,
   "id": "armed-style",
   "metadata": {},
   "outputs": [
    {
     "name": "stdout",
     "output_type": "stream",
     "text": [
      "              precision    recall  f1-score   support\n",
      "\n",
      "           0       1.00      1.00      1.00        35\n",
      "           1       1.00      1.00      1.00        46\n",
      "           2       0.98      1.00      0.99        41\n",
      "           3       0.96      0.96      0.96        26\n",
      "           4       1.00      0.97      0.99        35\n",
      "           5       1.00      1.00      1.00        38\n",
      "           6       1.00      1.00      1.00        42\n",
      "           7       1.00      1.00      1.00        32\n",
      "           8       1.00      0.97      0.99        35\n",
      "           9       0.94      0.97      0.95        30\n",
      "\n",
      "    accuracy                           0.99       360\n",
      "   macro avg       0.99      0.99      0.99       360\n",
      "weighted avg       0.99      0.99      0.99       360\n",
      "\n"
     ]
    }
   ],
   "source": [
    "# Support Vector Machine\n",
    "\n",
    "svm_model = svm.SVC()\n",
    "svm_model.fit(X_train, y_train)\n",
    "y_pred = svm_model.predict(X_test)\n",
    "print(classification_report(y_test, y_pred))"
   ]
  },
  {
   "cell_type": "code",
   "execution_count": 104,
   "id": "intense-fellowship",
   "metadata": {},
   "outputs": [
    {
     "name": "stdout",
     "output_type": "stream",
     "text": [
      "              precision    recall  f1-score   support\n",
      "\n",
      "           0       1.00      1.00      1.00        35\n",
      "           1       0.97      0.83      0.89        46\n",
      "           2       1.00      1.00      1.00        41\n",
      "           3       0.96      0.88      0.92        26\n",
      "           4       0.90      1.00      0.95        35\n",
      "           5       0.93      0.97      0.95        38\n",
      "           6       0.98      1.00      0.99        42\n",
      "           7       0.97      1.00      0.98        32\n",
      "           8       0.89      0.94      0.92        35\n",
      "           9       0.90      0.87      0.88        30\n",
      "\n",
      "    accuracy                           0.95       360\n",
      "   macro avg       0.95      0.95      0.95       360\n",
      "weighted avg       0.95      0.95      0.95       360\n",
      "\n"
     ]
    }
   ],
   "source": [
    "# Stochastic Gradient Descent Classifer\n",
    "\n",
    "sgd_model = SGDClassifier()\n",
    "sgd_model.fit(X_train, y_train)\n",
    "y_pred = sgd_model.predict(X_test)\n",
    "print(classification_report(y_test, y_pred))"
   ]
  },
  {
   "cell_type": "code",
   "execution_count": 105,
   "id": "indie-monte",
   "metadata": {},
   "outputs": [
    {
     "name": "stdout",
     "output_type": "stream",
     "text": [
      "              precision    recall  f1-score   support\n",
      "\n",
      "           0       1.00      1.00      1.00        35\n",
      "           1       0.98      0.89      0.93        46\n",
      "           2       0.98      0.98      0.98        41\n",
      "           3       0.86      0.92      0.89        26\n",
      "           4       0.97      0.97      0.97        35\n",
      "           5       1.00      0.97      0.99        38\n",
      "           6       1.00      1.00      1.00        42\n",
      "           7       1.00      1.00      1.00        32\n",
      "           8       0.94      0.97      0.96        35\n",
      "           9       0.91      0.97      0.94        30\n",
      "\n",
      "    accuracy                           0.97       360\n",
      "   macro avg       0.96      0.97      0.96       360\n",
      "weighted avg       0.97      0.97      0.97       360\n",
      "\n"
     ]
    },
    {
     "name": "stderr",
     "output_type": "stream",
     "text": [
      "/opt/conda/lib/python3.7/site-packages/sklearn/linear_model/_logistic.py:762: ConvergenceWarning: lbfgs failed to converge (status=1):\n",
      "STOP: TOTAL NO. of ITERATIONS REACHED LIMIT.\n",
      "\n",
      "Increase the number of iterations (max_iter) or scale the data as shown in:\n",
      "    https://scikit-learn.org/stable/modules/preprocessing.html\n",
      "Please also refer to the documentation for alternative solver options:\n",
      "    https://scikit-learn.org/stable/modules/linear_model.html#logistic-regression\n",
      "  extra_warning_msg=_LOGISTIC_SOLVER_CONVERGENCE_MSG)\n"
     ]
    }
   ],
   "source": [
    "# Logistic Regression\n",
    "\n",
    "logistic_model = LogisticRegression()\n",
    "logistic_model.fit(X_train, y_train)\n",
    "y_pred = logistic_model.predict(X_test)\n",
    "print(classification_report(y_test, y_pred))"
   ]
  },
  {
   "cell_type": "markdown",
   "id": "front-genius",
   "metadata": {},
   "source": [
    "# 모델 평가\n",
    "\n",
    "위 모델의 결과값으로 반환하는 값들은 모델이 임의의 숫자 이미지 데이터를 입력으로 받았을때 얼마나 올바르게 10종류의 숫자중 하나로 비슷하게 혹은 정확하게 분류를 하였는가를 수치화 한 것 입니다. 그렇게 나온 값들로 정확도를 볼 수 있는데, 정확도는 '얼마나 잘 맞추었는가'에 초점이 맞춰 있어서 '얼마나 오답을 피해 갔는가'에 대해 잘 나타내지 못하고 있습니다. 그래서 우리는 문제의 목표에 맞게 평가지표를 선택을 해야 하는데, 이 문제는 단순 분류의 문제로써 precision이 알맞는 평가지표 인것 같습니다."
   ]
  },
  {
   "cell_type": "markdown",
   "id": "tribal-flesh",
   "metadata": {},
   "source": [
    "# WINE"
   ]
  },
  {
   "cell_type": "code",
   "execution_count": 163,
   "id": "future-parcel",
   "metadata": {},
   "outputs": [
    {
     "name": "stdout",
     "output_type": "stream",
     "text": [
      "dict_keys(['data', 'target', 'frame', 'target_names', 'DESCR', 'feature_names'])\n",
      "(178, 13)\n",
      "[[1.423e+01 1.710e+00 2.430e+00 ... 1.040e+00 3.920e+00 1.065e+03]\n",
      " [1.320e+01 1.780e+00 2.140e+00 ... 1.050e+00 3.400e+00 1.050e+03]\n",
      " [1.316e+01 2.360e+00 2.670e+00 ... 1.030e+00 3.170e+00 1.185e+03]\n",
      " ...\n",
      " [1.327e+01 4.280e+00 2.260e+00 ... 5.900e-01 1.560e+00 8.350e+02]\n",
      " [1.317e+01 2.590e+00 2.370e+00 ... 6.000e-01 1.620e+00 8.400e+02]\n",
      " [1.413e+01 4.100e+00 2.740e+00 ... 6.100e-01 1.600e+00 5.600e+02]]\n"
     ]
    }
   ],
   "source": [
    "wines = load_wine()\n",
    "print(wines.keys())\n",
    "\n",
    "wines_data = wines.data\n",
    "print(wines_data.shape)\n",
    "print(wines.data)"
   ]
  },
  {
   "cell_type": "code",
   "execution_count": 159,
   "id": "american-award",
   "metadata": {},
   "outputs": [
    {
     "name": "stdout",
     "output_type": "stream",
     "text": [
      "(178,)\n",
      "['class_0' 'class_1' 'class_2']\n"
     ]
    },
    {
     "data": {
      "text/plain": [
       "array([0, 0, 0, 0, 0, 0, 0, 0, 0, 0, 0, 0, 0, 0, 0, 0, 0, 0, 0, 0, 0, 0,\n",
       "       0, 0, 0, 0, 0, 0, 0, 0, 0, 0, 0, 0, 0, 0, 0, 0, 0, 0, 0, 0, 0, 0,\n",
       "       0, 0, 0, 0, 0, 0, 0, 0, 0, 0, 0, 0, 0, 0, 0, 1, 1, 1, 1, 1, 1, 1,\n",
       "       1, 1, 1, 1, 1, 1, 1, 1, 1, 1, 1, 1, 1, 1, 1, 1, 1, 1, 1, 1, 1, 1,\n",
       "       1, 1, 1, 1, 1, 1, 1, 1, 1, 1, 1, 1, 1, 1, 1, 1, 1, 1, 1, 1, 1, 1,\n",
       "       1, 1, 1, 1, 1, 1, 1, 1, 1, 1, 1, 1, 1, 1, 1, 1, 1, 1, 1, 1, 2, 2,\n",
       "       2, 2, 2, 2, 2, 2, 2, 2, 2, 2, 2, 2, 2, 2, 2, 2, 2, 2, 2, 2, 2, 2,\n",
       "       2, 2, 2, 2, 2, 2, 2, 2, 2, 2, 2, 2, 2, 2, 2, 2, 2, 2, 2, 2, 2, 2,\n",
       "       2, 2])"
      ]
     },
     "execution_count": 159,
     "metadata": {},
     "output_type": "execute_result"
    }
   ],
   "source": [
    "wines_label = wines.target\n",
    "print(wines_label.shape)\n",
    "print(wine.target_names)\n",
    "wines_label"
   ]
  },
  {
   "cell_type": "code",
   "execution_count": 142,
   "id": "after-april",
   "metadata": {},
   "outputs": [],
   "source": [
    "X_train_wine, X_test_wine, y_train_wine, y_test_wine = train_test_split(wines_data, \n",
    "                                                    wines_label, \n",
    "                                                    test_size=0.2, \n",
    "                                                    random_state=30)"
   ]
  },
  {
   "cell_type": "code",
   "execution_count": 143,
   "id": "martial-trinity",
   "metadata": {},
   "outputs": [
    {
     "name": "stdout",
     "output_type": "stream",
     "text": [
      "              precision    recall  f1-score   support\n",
      "\n",
      "           0       0.75      0.82      0.78        11\n",
      "           1       0.87      0.81      0.84        16\n",
      "           2       0.89      0.89      0.89         9\n",
      "\n",
      "    accuracy                           0.83        36\n",
      "   macro avg       0.84      0.84      0.84        36\n",
      "weighted avg       0.84      0.83      0.83        36\n",
      "\n"
     ]
    }
   ],
   "source": [
    "# decision tree\n",
    "decision_tree = DecisionTreeClassifier(random_state=18)\n",
    "decision_tree.fit(X_train_wine, y_train_wine)\n",
    "y_pred_wine = decision_tree.predict(X_test_wine)\n",
    "\n",
    "print(classification_report(y_test_wine, y_pred_wine))"
   ]
  },
  {
   "cell_type": "code",
   "execution_count": 144,
   "id": "limiting-bowling",
   "metadata": {},
   "outputs": [
    {
     "name": "stdout",
     "output_type": "stream",
     "text": [
      "              precision    recall  f1-score   support\n",
      "\n",
      "           0       0.92      1.00      0.96        11\n",
      "           1       1.00      0.94      0.97        16\n",
      "           2       1.00      1.00      1.00         9\n",
      "\n",
      "    accuracy                           0.97        36\n",
      "   macro avg       0.97      0.98      0.97        36\n",
      "weighted avg       0.97      0.97      0.97        36\n",
      "\n"
     ]
    }
   ],
   "source": [
    "# random forest\n",
    "random_forest = RandomForestClassifier(random_state=25)\n",
    "random_forest.fit(X_train_wine, y_train_wine)\n",
    "y_pred_wine = random_forest.predict(X_test_wine)\n",
    "\n",
    "print(classification_report(y_test_wine, y_pred_wine))"
   ]
  },
  {
   "cell_type": "code",
   "execution_count": 145,
   "id": "artificial-trail",
   "metadata": {},
   "outputs": [
    {
     "name": "stdout",
     "output_type": "stream",
     "text": [
      "              precision    recall  f1-score   support\n",
      "\n",
      "           0       0.89      0.73      0.80        11\n",
      "           1       0.79      0.69      0.73        16\n",
      "           2       0.46      0.67      0.55         9\n",
      "\n",
      "    accuracy                           0.69        36\n",
      "   macro avg       0.71      0.69      0.69        36\n",
      "weighted avg       0.74      0.69      0.71        36\n",
      "\n"
     ]
    }
   ],
   "source": [
    "# support vector machine\n",
    "svm_model = svm.SVC()\n",
    "svm_model.fit(X_train_wine, y_train_wine)\n",
    "y_pred_wine = svm_model.predict(X_test_wine)\n",
    "print(classification_report(y_test_wine, y_pred_wine))"
   ]
  },
  {
   "cell_type": "code",
   "execution_count": 146,
   "id": "honey-gallery",
   "metadata": {},
   "outputs": [
    {
     "name": "stdout",
     "output_type": "stream",
     "text": [
      "              precision    recall  f1-score   support\n",
      "\n",
      "           0       0.89      0.73      0.80        11\n",
      "           1       0.00      0.00      0.00        16\n",
      "           2       0.33      1.00      0.50         9\n",
      "\n",
      "    accuracy                           0.47        36\n",
      "   macro avg       0.41      0.58      0.43        36\n",
      "weighted avg       0.35      0.47      0.37        36\n",
      "\n"
     ]
    },
    {
     "name": "stderr",
     "output_type": "stream",
     "text": [
      "/opt/conda/lib/python3.7/site-packages/sklearn/metrics/_classification.py:1221: UndefinedMetricWarning: Precision and F-score are ill-defined and being set to 0.0 in labels with no predicted samples. Use `zero_division` parameter to control this behavior.\n",
      "  _warn_prf(average, modifier, msg_start, len(result))\n"
     ]
    }
   ],
   "source": [
    "# Stochastic Gradient Descent Classifer\n",
    "\n",
    "sgd_model = SGDClassifier()\n",
    "sgd_model.fit(X_train_wine, y_train_wine)\n",
    "y_pred_wine = sgd_model.predict(X_test_wine)\n",
    "print(classification_report(y_test_wine, y_pred_wine))"
   ]
  },
  {
   "cell_type": "code",
   "execution_count": 147,
   "id": "sonic-cinema",
   "metadata": {},
   "outputs": [
    {
     "name": "stdout",
     "output_type": "stream",
     "text": [
      "              precision    recall  f1-score   support\n",
      "\n",
      "           0       1.00      0.91      0.95        11\n",
      "           1       0.94      1.00      0.97        16\n",
      "           2       1.00      1.00      1.00         9\n",
      "\n",
      "    accuracy                           0.97        36\n",
      "   macro avg       0.98      0.97      0.97        36\n",
      "weighted avg       0.97      0.97      0.97        36\n",
      "\n"
     ]
    },
    {
     "name": "stderr",
     "output_type": "stream",
     "text": [
      "/opt/conda/lib/python3.7/site-packages/sklearn/linear_model/_logistic.py:762: ConvergenceWarning: lbfgs failed to converge (status=1):\n",
      "STOP: TOTAL NO. of ITERATIONS REACHED LIMIT.\n",
      "\n",
      "Increase the number of iterations (max_iter) or scale the data as shown in:\n",
      "    https://scikit-learn.org/stable/modules/preprocessing.html\n",
      "Please also refer to the documentation for alternative solver options:\n",
      "    https://scikit-learn.org/stable/modules/linear_model.html#logistic-regression\n",
      "  extra_warning_msg=_LOGISTIC_SOLVER_CONVERGENCE_MSG)\n"
     ]
    }
   ],
   "source": [
    "# Logistic Regression\n",
    "\n",
    "logistic_model = LogisticRegression()\n",
    "logistic_model.fit(X_train_wine, y_train_wine)\n",
    "y_pred_wine = logistic_model.predict(X_test_wine)\n",
    "print(classification_report(y_test_wine, y_pred_wine))"
   ]
  },
  {
   "cell_type": "markdown",
   "id": "adequate-browser",
   "metadata": {},
   "source": [
    "# 모델 평가\n",
    "\n",
    "위 모델의 결과값으로 반환하는 값들은 모델이 임의의 와인데이터를 입력으로 받았을때 얼마나 올바르게 3종류의 와인중 하나로 비슷하게 혹은 정확하게 분류를 하였는가를 수치화 한 것 입니다. 이 문제는 단순 분류의 문제로써 precision이 알맞는 평가지표 인것 같습니다."
   ]
  },
  {
   "cell_type": "markdown",
   "id": "widespread-detection",
   "metadata": {},
   "source": [
    "# Breast_Cancer"
   ]
  },
  {
   "cell_type": "code",
   "execution_count": 161,
   "id": "retired-owner",
   "metadata": {},
   "outputs": [
    {
     "name": "stdout",
     "output_type": "stream",
     "text": [
      "dict_keys(['data', 'target', 'frame', 'target_names', 'DESCR', 'feature_names', 'filename'])\n",
      "[[1.799e+01 1.038e+01 1.228e+02 ... 2.654e-01 4.601e-01 1.189e-01]\n",
      " [2.057e+01 1.777e+01 1.329e+02 ... 1.860e-01 2.750e-01 8.902e-02]\n",
      " [1.969e+01 2.125e+01 1.300e+02 ... 2.430e-01 3.613e-01 8.758e-02]\n",
      " ...\n",
      " [1.660e+01 2.808e+01 1.083e+02 ... 1.418e-01 2.218e-01 7.820e-02]\n",
      " [2.060e+01 2.933e+01 1.401e+02 ... 2.650e-01 4.087e-01 1.240e-01]\n",
      " [7.760e+00 2.454e+01 4.792e+01 ... 0.000e+00 2.871e-01 7.039e-02]]\n",
      "(569, 30)\n"
     ]
    }
   ],
   "source": [
    "can = load_breast_cancer()\n",
    "print(can.keys())\n",
    "\n",
    "can_data = can.data\n",
    "print(can.data)\n",
    "print(can_data.shape)"
   ]
  },
  {
   "cell_type": "code",
   "execution_count": 158,
   "id": "moral-might",
   "metadata": {},
   "outputs": [
    {
     "name": "stdout",
     "output_type": "stream",
     "text": [
      "(569,)\n",
      "['malignant' 'benign']\n"
     ]
    },
    {
     "data": {
      "text/plain": [
       "array([0, 0, 0, 0, 0, 0, 0, 0, 0, 0, 0, 0, 0, 0, 0, 0, 0, 0, 0, 1, 1, 1,\n",
       "       0, 0, 0, 0, 0, 0, 0, 0, 0, 0, 0, 0, 0, 0, 0, 1, 0, 0, 0, 0, 0, 0,\n",
       "       0, 0, 1, 0, 1, 1, 1, 1, 1, 0, 0, 1, 0, 0, 1, 1, 1, 1, 0, 1, 0, 0,\n",
       "       1, 1, 1, 1, 0, 1, 0, 0, 1, 0, 1, 0, 0, 1, 1, 1, 0, 0, 1, 0, 0, 0,\n",
       "       1, 1, 1, 0, 1, 1, 0, 0, 1, 1, 1, 0, 0, 1, 1, 1, 1, 0, 1, 1, 0, 1,\n",
       "       1, 1, 1, 1, 1, 1, 1, 0, 0, 0, 1, 0, 0, 1, 1, 1, 0, 0, 1, 0, 1, 0,\n",
       "       0, 1, 0, 0, 1, 1, 0, 1, 1, 0, 1, 1, 1, 1, 0, 1, 1, 1, 1, 1, 1, 1,\n",
       "       1, 1, 0, 1, 1, 1, 1, 0, 0, 1, 0, 1, 1, 0, 0, 1, 1, 0, 0, 1, 1, 1,\n",
       "       1, 0, 1, 1, 0, 0, 0, 1, 0, 1, 0, 1, 1, 1, 0, 1, 1, 0, 0, 1, 0, 0,\n",
       "       0, 0, 1, 0, 0, 0, 1, 0, 1, 0, 1, 1, 0, 1, 0, 0, 0, 0, 1, 1, 0, 0,\n",
       "       1, 1, 1, 0, 1, 1, 1, 1, 1, 0, 0, 1, 1, 0, 1, 1, 0, 0, 1, 0, 1, 1,\n",
       "       1, 1, 0, 1, 1, 1, 1, 1, 0, 1, 0, 0, 0, 0, 0, 0, 0, 0, 0, 0, 0, 0,\n",
       "       0, 0, 1, 1, 1, 1, 1, 1, 0, 1, 0, 1, 1, 0, 1, 1, 0, 1, 0, 0, 1, 1,\n",
       "       1, 1, 1, 1, 1, 1, 1, 1, 1, 1, 1, 0, 1, 1, 0, 1, 0, 1, 1, 1, 1, 1,\n",
       "       1, 1, 1, 1, 1, 1, 1, 1, 1, 0, 1, 1, 1, 0, 1, 0, 1, 1, 1, 1, 0, 0,\n",
       "       0, 1, 1, 1, 1, 0, 1, 0, 1, 0, 1, 1, 1, 0, 1, 1, 1, 1, 1, 1, 1, 0,\n",
       "       0, 0, 1, 1, 1, 1, 1, 1, 1, 1, 1, 1, 1, 0, 0, 1, 0, 0, 0, 1, 0, 0,\n",
       "       1, 1, 1, 1, 1, 0, 1, 1, 1, 1, 1, 0, 1, 1, 1, 0, 1, 1, 0, 0, 1, 1,\n",
       "       1, 1, 1, 1, 0, 1, 1, 1, 1, 1, 1, 1, 0, 1, 1, 1, 1, 1, 0, 1, 1, 0,\n",
       "       1, 1, 1, 1, 1, 1, 1, 1, 1, 1, 1, 1, 0, 1, 0, 0, 1, 0, 1, 1, 1, 1,\n",
       "       1, 0, 1, 1, 0, 1, 0, 1, 1, 0, 1, 0, 1, 1, 1, 1, 1, 1, 1, 1, 0, 0,\n",
       "       1, 1, 1, 1, 1, 1, 0, 1, 1, 1, 1, 1, 1, 1, 1, 1, 1, 0, 1, 1, 1, 1,\n",
       "       1, 1, 1, 0, 1, 0, 1, 1, 0, 1, 1, 1, 1, 1, 0, 0, 1, 0, 1, 0, 1, 1,\n",
       "       1, 1, 1, 0, 1, 1, 0, 1, 0, 1, 0, 0, 1, 1, 1, 0, 1, 1, 1, 1, 1, 1,\n",
       "       1, 1, 1, 1, 1, 0, 1, 0, 0, 1, 1, 1, 1, 1, 1, 1, 1, 1, 1, 1, 1, 1,\n",
       "       1, 1, 1, 1, 1, 1, 1, 1, 1, 1, 1, 1, 0, 0, 0, 0, 0, 0, 1])"
      ]
     },
     "execution_count": 158,
     "metadata": {},
     "output_type": "execute_result"
    }
   ],
   "source": [
    "can_label = can.target\n",
    "print(can_label.shape)\n",
    "print(can.target_names)\n",
    "can_label"
   ]
  },
  {
   "cell_type": "code",
   "execution_count": 167,
   "id": "minute-ethernet",
   "metadata": {},
   "outputs": [],
   "source": [
    "X_train_can, X_test_can, y_train_can, y_test_can = train_test_split(can_data, \n",
    "                                                    can_label, \n",
    "                                                    test_size=0.2, \n",
    "                                                    random_state=30)"
   ]
  },
  {
   "cell_type": "code",
   "execution_count": 168,
   "id": "agreed-phrase",
   "metadata": {},
   "outputs": [
    {
     "name": "stdout",
     "output_type": "stream",
     "text": [
      "              precision    recall  f1-score   support\n",
      "\n",
      "           0       0.93      0.89      0.91        44\n",
      "           1       0.93      0.96      0.94        70\n",
      "\n",
      "    accuracy                           0.93       114\n",
      "   macro avg       0.93      0.92      0.93       114\n",
      "weighted avg       0.93      0.93      0.93       114\n",
      "\n"
     ]
    }
   ],
   "source": [
    "# decision tree\n",
    "decision_tree = DecisionTreeClassifier(random_state=18)\n",
    "decision_tree.fit(X_train_can, y_train_can)\n",
    "y_pred_can = decision_tree.predict(X_test_can)\n",
    "\n",
    "print(classification_report(y_test_can, y_pred_can))"
   ]
  },
  {
   "cell_type": "code",
   "execution_count": 169,
   "id": "jewish-microwave",
   "metadata": {},
   "outputs": [
    {
     "name": "stdout",
     "output_type": "stream",
     "text": [
      "              precision    recall  f1-score   support\n",
      "\n",
      "           0       0.97      0.89      0.93        44\n",
      "           1       0.93      0.99      0.96        70\n",
      "\n",
      "    accuracy                           0.95       114\n",
      "   macro avg       0.95      0.94      0.94       114\n",
      "weighted avg       0.95      0.95      0.95       114\n",
      "\n"
     ]
    }
   ],
   "source": [
    "# random forest\n",
    "random_forest = RandomForestClassifier(random_state=25)\n",
    "random_forest.fit(X_train_can, y_train_can)\n",
    "y_pred_can = random_forest.predict(X_test_can)\n",
    "\n",
    "print(classification_report(y_test_can, y_pred_can))"
   ]
  },
  {
   "cell_type": "code",
   "execution_count": 170,
   "id": "liberal-ballot",
   "metadata": {},
   "outputs": [
    {
     "name": "stdout",
     "output_type": "stream",
     "text": [
      "              precision    recall  f1-score   support\n",
      "\n",
      "           0       0.97      0.77      0.86        44\n",
      "           1       0.87      0.99      0.93        70\n",
      "\n",
      "    accuracy                           0.90       114\n",
      "   macro avg       0.92      0.88      0.89       114\n",
      "weighted avg       0.91      0.90      0.90       114\n",
      "\n"
     ]
    }
   ],
   "source": [
    "# support vector machine\n",
    "svm_model = svm.SVC()\n",
    "svm_model.fit(X_train_can, y_train_can)\n",
    "y_pred_can = svm_model.predict(X_test_can)\n",
    "print(classification_report(y_test_can, y_pred_can))"
   ]
  },
  {
   "cell_type": "code",
   "execution_count": 171,
   "id": "technical-rebecca",
   "metadata": {},
   "outputs": [
    {
     "name": "stdout",
     "output_type": "stream",
     "text": [
      "              precision    recall  f1-score   support\n",
      "\n",
      "           0       0.96      0.59      0.73        44\n",
      "           1       0.79      0.99      0.88        70\n",
      "\n",
      "    accuracy                           0.83       114\n",
      "   macro avg       0.88      0.79      0.81       114\n",
      "weighted avg       0.86      0.83      0.82       114\n",
      "\n"
     ]
    }
   ],
   "source": [
    "# Stochastic Gradient Descent Classifer\n",
    "\n",
    "sgd_model = SGDClassifier()\n",
    "sgd_model.fit(X_train_can, y_train_can)\n",
    "y_pred_can = sgd_model.predict(X_test_can)\n",
    "print(classification_report(y_test_can, y_pred_can))"
   ]
  },
  {
   "cell_type": "code",
   "execution_count": 172,
   "id": "numerical-brazil",
   "metadata": {},
   "outputs": [
    {
     "name": "stdout",
     "output_type": "stream",
     "text": [
      "              precision    recall  f1-score   support\n",
      "\n",
      "           0       0.91      0.89      0.90        44\n",
      "           1       0.93      0.94      0.94        70\n",
      "\n",
      "    accuracy                           0.92       114\n",
      "   macro avg       0.92      0.91      0.92       114\n",
      "weighted avg       0.92      0.92      0.92       114\n",
      "\n"
     ]
    },
    {
     "name": "stderr",
     "output_type": "stream",
     "text": [
      "/opt/conda/lib/python3.7/site-packages/sklearn/linear_model/_logistic.py:762: ConvergenceWarning: lbfgs failed to converge (status=1):\n",
      "STOP: TOTAL NO. of ITERATIONS REACHED LIMIT.\n",
      "\n",
      "Increase the number of iterations (max_iter) or scale the data as shown in:\n",
      "    https://scikit-learn.org/stable/modules/preprocessing.html\n",
      "Please also refer to the documentation for alternative solver options:\n",
      "    https://scikit-learn.org/stable/modules/linear_model.html#logistic-regression\n",
      "  extra_warning_msg=_LOGISTIC_SOLVER_CONVERGENCE_MSG)\n"
     ]
    }
   ],
   "source": [
    "# Logistic Regression\n",
    "\n",
    "logistic_model = LogisticRegression()\n",
    "logistic_model.fit(X_train_can, y_train_can)\n",
    "y_pred_can = logistic_model.predict(X_test_can)\n",
    "print(classification_report(y_test_can, y_pred_can))"
   ]
  },
  {
   "cell_type": "markdown",
   "id": "affecting-hopkins",
   "metadata": {},
   "source": [
    "# 모델 평가\n",
    "위 문제는 환자의 건강에 대한 데이터가 모델에 입력으로 들어갔을때 이 환자가 유방암인지 아닌지에 대해 수치화 해서 결과값으로 나타내 주는 것 입니다. 이 문제는 위의 두 문제들과는 조금 다릅니다. 암을 진단하는 경우 실제 환자를 한명이라도 놓치면 안되기 때문에 우리는 양성을 음성을 판단하는 일이 없어야 합니다. 이는 precision 보다 recall이 더 중요한 평가지표로써 사용이 되어야 한다고 생각합니다."
   ]
  }
 ],
 "metadata": {
  "kernelspec": {
   "display_name": "Python 3",
   "language": "python",
   "name": "python3"
  },
  "language_info": {
   "codemirror_mode": {
    "name": "ipython",
    "version": 3
   },
   "file_extension": ".py",
   "mimetype": "text/x-python",
   "name": "python",
   "nbconvert_exporter": "python",
   "pygments_lexer": "ipython3",
   "version": "3.7.9"
  }
 },
 "nbformat": 4,
 "nbformat_minor": 5
}
